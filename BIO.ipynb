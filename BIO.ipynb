{
 "cells": [
  {
   "cell_type": "code",
   "execution_count": 4,
   "id": "697a536a",
   "metadata": {},
   "outputs": [],
   "source": [
    "html_content = \"\"\"\n",
    "<!DOCTYPE html>\n",
    "<html lang=\"en\">\n",
    "<head>\n",
    "    <meta charset=\"UTF-8\">\n",
    "    <meta name=\"viewport\" content=\"width=device-width, initial-scale=1.0\">\n",
    "    <title>Jialin Li - USC Thornton School of Music</title>\n",
    "    <style>\n",
    "        body {\n",
    "            font-family: Arial, sans-serif;\n",
    "            margin: 40px;\n",
    "        }\n",
    "        .container {\n",
    "            max-width: 800px;\n",
    "            margin: auto;\n",
    "            padding: 20px;\n",
    "            border: 1px solid #ddd;\n",
    "            border-radius: 10px;\n",
    "        }\n",
    "        h1 {\n",
    "            color: #333;\n",
    "        }\n",
    "        p {\n",
    "            line-height: 1.6;\n",
    "        }\n",
    "        img {\n",
    "            max-width: 100%;\n",
    "            height: auto;\n",
    "            border-radius: 10px;\n",
    "        }\n",
    "        a {\n",
    "            color: #0073e6;\n",
    "            text-decoration: none;\n",
    "        }\n",
    "        a:hover {\n",
    "            text-decoration: underline;\n",
    "        }\n",
    "    </style>\n",
    "</head>\n",
    "<body>\n",
    "    <div class=\"container\">\n",
    "        <h1>Jialin Li</h1>\n",
    "        <p>Adjunct Associate Professor at the USC Thornton School of Music</p>\n",
    "        <p>Jialin Li has been named an adjunct associate professor at the USC Thornton School of Music starting in 2023.</p>\n",
    "        <img src=\"https://music.usc.edu/wp-content/uploads/2023/01/JialinLi_240-1.jpg\" alt=\"Photo of Jialin Li smiling.\" />\n",
    "        <p>Learn more about the <a href=\"https://music.usc.edu\" target=\"_blank\">USC Thornton School of Music</a>.</p>\n",
    "    </div>\n",
    "</body>\n",
    "</html>\n",
    "\"\"\"\n",
    "\n",
    "with open(\"jialin_li_bio.html\", \"w\") as file:\n",
    "    file.write(html_content)\n"
   ]
  },
  {
   "cell_type": "code",
   "execution_count": null,
   "id": "9f14e718",
   "metadata": {},
   "outputs": [],
   "source": []
  }
 ],
 "metadata": {
  "kernelspec": {
   "display_name": "Python 3 (ipykernel)",
   "language": "python",
   "name": "python3"
  },
  "language_info": {
   "codemirror_mode": {
    "name": "ipython",
    "version": 3
   },
   "file_extension": ".py",
   "mimetype": "text/x-python",
   "name": "python",
   "nbconvert_exporter": "python",
   "pygments_lexer": "ipython3",
   "version": "3.9.16"
  }
 },
 "nbformat": 4,
 "nbformat_minor": 5
}
